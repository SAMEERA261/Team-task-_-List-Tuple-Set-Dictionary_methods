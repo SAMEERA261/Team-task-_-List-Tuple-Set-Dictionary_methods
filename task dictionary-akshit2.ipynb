{
 "cells": [
  {
   "cell_type": "markdown",
   "id": "20e753ce",
   "metadata": {},
   "source": [
    " ### DATA TYPES(DICTIONARY)"
   ]
  },
  {
   "cell_type": "markdown",
   "id": "e66493ab",
   "metadata": {},
   "source": [
    "In Python, a dictionary is a built-in data type that is used to store and organize data in key-value pairs. It is sometimes referred to as an associative array, map, or hash table in other programming languages. Dictionaries are mutable, meaning their contents can be changed after they are created\n"
   ]
  },
  {
   "cell_type": "markdown",
   "id": "a9305447",
   "metadata": {},
   "source": [
    "### 'get',"
   ]
  },
  {
   "cell_type": "markdown",
   "id": "5c0e4fb3",
   "metadata": {},
   "source": [
    "The get() method in Python dictionaries allows you to retrieve the value associated with a given key. If the key is not found, it returns a default value (which is None by default).\n",
    "\n"
   ]
  },
  {
   "cell_type": "code",
   "execution_count": 1,
   "id": "20158fb1",
   "metadata": {},
   "outputs": [],
   "source": [
    "def (dictionary, key, default=None):\n",
    "    return dictionary[key] if key in dictionary else default\n",
    "\n"
   ]
  },
  {
   "cell_type": "code",
   "execution_count": 2,
   "id": "4db3dd9b",
   "metadata": {},
   "outputs": [
    {
     "name": "stdout",
     "output_type": "stream",
     "text": [
      "25\n",
      "Not Available\n"
     ]
    }
   ],
   "source": [
    "\n",
    "my_dict = {'name': 'john', 'age': 25, 'city': 'new york'}\n",
    "\n",
    "value = custom_get(my_dict, 'age', default='Not Available')\n",
    "print(value)  \n",
    "\n",
    "value = custom_get(my_dict, 'gender', default='Not Available')\n",
    "print(value)  \n"
   ]
  },
  {
   "cell_type": "code",
   "execution_count": 8,
   "id": "6f78e38d",
   "metadata": {},
   "outputs": [
    {
     "name": "stdout",
     "output_type": "stream",
     "text": [
      "\n",
      "    Retrieve the value for the given key in the dictionary.\n",
      "    If the key is not present, return the specified default value.\n",
      "    \n"
     ]
    }
   ],
   "source": [
    "print(__doc__)"
   ]
  },
  {
   "cell_type": "markdown",
   "id": "e142b185",
   "metadata": {},
   "source": [
    "### 'keys',"
   ]
  },
  {
   "cell_type": "markdown",
   "id": "fafd1e87",
   "metadata": {},
   "source": [
    " If you want to iterate over the keys of a dictionary without using the keys() method, you can directly iterate over the dictionary itself. The dictionary iteration will, by default, iterate over its keys.\n",
    "\n"
   ]
  },
  {
   "cell_type": "code",
   "execution_count": 3,
   "id": "4dc75a4a",
   "metadata": {},
   "outputs": [],
   "source": [
    "def dict(dictionary):\n",
    "    \"\"\"\n",
    "    Print the keys of the given dictionary.\n",
    "    \"\"\"\n",
    "    for key in dictionary:\n",
    "        print(key)\n",
    "\n",
    "\n"
   ]
  },
  {
   "cell_type": "code",
   "execution_count": 7,
   "id": "54850a45",
   "metadata": {},
   "outputs": [
    {
     "data": {
      "text/plain": [
       "{'name': 'sharath', 'age': 25, 'city': 'india'}"
      ]
     },
     "execution_count": 7,
     "metadata": {},
     "output_type": "execute_result"
    }
   ],
   "source": [
    "\n",
    "my_dict = {'name': 'sharath', 'age': 25, 'city': 'india'}\n",
    "dict(my_dict)"
   ]
  },
  {
   "cell_type": "markdown",
   "id": "f7bdd453",
   "metadata": {},
   "source": [
    "### 'pop',"
   ]
  },
  {
   "cell_type": "markdown",
   "id": "5ee85d4f",
   "metadata": {},
   "source": [
    " If you want to remove an item from a dictionary without using the pop() method, you can use the del statement to delete the key-value pair."
   ]
  },
  {
   "cell_type": "code",
   "execution_count": 18,
   "id": "26809311",
   "metadata": {},
   "outputs": [],
   "source": [
    "def custompop(dictionary, key, default=None):\n",
    "    if key in dictionary:\n",
    "        value = dictionary[key]\n",
    "        del dictionary[key]\n",
    "        return value\n",
    "    else:\n",
    "        return default"
   ]
  },
  {
   "cell_type": "code",
   "execution_count": 20,
   "id": "0e055d57",
   "metadata": {},
   "outputs": [
    {
     "name": "stdout",
     "output_type": "stream",
     "text": [
      "Removed Value: 25\n",
      "Updated Dictionary: {'name': 'John', 'city': 'New York'}\n"
     ]
    }
   ],
   "source": [
    "\n",
    "my_dict = {'name': 'John', 'age': 25, 'city': 'New York'}\n",
    "\n",
    "\n",
    "removed_value =custompop (my_dict, 'age', default=None)\n",
    "print(f\"Removed Value: {removed_value}\")\n",
    "print(f\"Updated Dictionary: {my_dict}\")\n"
   ]
  },
  {
   "cell_type": "markdown",
   "id": "585448a8",
   "metadata": {},
   "source": [
    "###  'popitem'"
   ]
  },
  {
   "cell_type": "markdown",
   "id": "83c72548",
   "metadata": {},
   "source": [
    " If you want to simulate the behavior of popitem() without using the popitem() method, you can achieve this by using iteration and the iter() function. \n",
    "\n"
   ]
  },
  {
   "cell_type": "code",
   "execution_count": 11,
   "id": "dfd24aa4",
   "metadata": {},
   "outputs": [
    {
     "name": "stdout",
     "output_type": "stream",
     "text": [
      "Removed Item: ('name', 'John')\n",
      "Updated Dictionary: {'age': 25, 'city': 'New York'}\n"
     ]
    }
   ],
   "source": [
    "def popitem(dictionary, default=None):\n",
    "    \n",
    "    \n",
    "    if dictionary:\n",
    "        \n",
    "        iterator = iter(dictionary.items())\n",
    "        \n",
    "        key, value = next(iterator)\n",
    "        \n",
    "        del dictionary[key]\n",
    "        \n",
    "        return key, value\n",
    "    else:\n",
    "        return default\n",
    "\n"
   ]
  },
  {
   "cell_type": "code",
   "execution_count": null,
   "id": "a3569aa7",
   "metadata": {},
   "outputs": [],
   "source": [
    "\n",
    "my_dict = {'name': 'John', 'age': 25, 'city': 'New York'}\n",
    "removed_item = custom_popitem(my_dict, default=None)\n",
    "print(f\"Removed Item: {removed_item}\")\n",
    "print(f\"Updated Dictionary: {my_dict}\")\n"
   ]
  },
  {
   "cell_type": "markdown",
   "id": "f63e2b9a",
   "metadata": {},
   "source": [
    "### 'setdefault',"
   ]
  },
  {
   "cell_type": "markdown",
   "id": "0627c355",
   "metadata": {},
   "source": [
    " The setdefault() method in Python dictionaries is used to set a default value for a key if the key is not already in the dictionary. If the key is present, it returns the corresponding value. \n"
   ]
  },
  {
   "cell_type": "code",
   "execution_count": 12,
   "id": "f441a079",
   "metadata": {},
   "outputs": [
    {
     "name": "stdout",
     "output_type": "stream",
     "text": [
      "Original Value: 25\n",
      "Updated Dictionary: {'name': 'John', 'age': 25, 'city': 'New York'}\n",
      "Original Value: Male\n",
      "Updated Dictionary: {'name': 'John', 'age': 25, 'city': 'New York', 'gender': 'Male'}\n"
     ]
    }
   ],
   "source": [
    "def setdefault(dictionary, key, default=None):\n",
    "    if key not in dictionary:\n",
    "        dictionary[key] = default\n",
    "    return dictionary[key]\n",
    "\n",
    "\n"
   ]
  },
  {
   "cell_type": "code",
   "execution_count": null,
   "id": "a37d16e1",
   "metadata": {},
   "outputs": [],
   "source": [
    "\n",
    "\n",
    "my_dict = {'name': 'John', 'age': 25, 'city': 'New York'}\n",
    "\n",
    "\n",
    "value = setdefault(my_dict, 'age', default=30)\n",
    "print(f\"Original Value: {value}\")\n",
    "print(f\"Updated Dictionary: {my_dict}\")\n",
    "\n",
    "value = setdefault(my_dict, 'gender', default='Male')\n",
    "print(f\"Original Value: {value}\")\n",
    "print(f\"Updated Dictionary: {my_dict}\")\n"
   ]
  },
  {
   "cell_type": "markdown",
   "id": "521c9f22",
   "metadata": {},
   "source": [
    "### 'update'"
   ]
  },
  {
   "cell_type": "markdown",
   "id": "f7a22b63",
   "metadata": {},
   "source": [
    " The update() method in Python dictionaries is used to update a dictionary with elements from another dictionary or from an iterable of key-value pairs. If a key already exists in the dictionary, its value is updated; otherwise, a new key-value pair is added. \n",
    "\n"
   ]
  },
  {
   "cell_type": "code",
   "execution_count": 13,
   "id": "ae386c8e",
   "metadata": {},
   "outputs": [
    {
     "name": "stdout",
     "output_type": "stream",
     "text": [
      "Updated Dictionary: {'name': 'John', 'age': 26, 'city': 'New York', 'gender': 'Male', 'country': 'USA'}\n"
     ]
    }
   ],
   "source": [
    "def update(dictionary, other_dict):    \n",
    "    for key, value in other_dict.items():\n",
    "        dictionary[key] = value\n",
    "\n"
   ]
  },
  {
   "cell_type": "code",
   "execution_count": null,
   "id": "d8d2afd0",
   "metadata": {},
   "outputs": [],
   "source": [
    "\n",
    "my_dict = {'name': 'John', 'age': 25, 'city': 'New York'}\n",
    "additional_data = {'age': 26, 'gender': 'Male', 'country': \n",
    "update(my_dict, additional_data)\n",
    "\n",
    "print(f\"Updated Dictionary: {my_dict}\")\n"
   ]
  },
  {
   "cell_type": "markdown",
   "id": "a5504e1b",
   "metadata": {},
   "source": [
    "### values"
   ]
  },
  {
   "cell_type": "markdown",
   "id": "a16d5b7f",
   "metadata": {},
   "source": [
    "If you're looking to create a function that retrieves all values from a dictionary without using the values() method, you can achieve this by directly iterating over the dictionary. \n"
   ]
  },
  {
   "cell_type": "code",
   "execution_count": 14,
   "id": "672e51f1",
   "metadata": {},
   "outputs": [
    {
     "name": "stdout",
     "output_type": "stream",
     "text": [
      "All Values: ['John', 25, 'New York']\n"
     ]
    }
   ],
   "source": [
    "def values(dictionary):\n",
    "    \n",
    "    return [value for key, value in dictionary.items()]\n",
    "\n"
   ]
  },
  {
   "cell_type": "code",
   "execution_count": null,
   "id": "252073ff",
   "metadata": {},
   "outputs": [],
   "source": [
    "\n",
    "my_dict = {'name': 'John', 'age': 25, 'city': 'New York'}\n",
    "\n",
    "all_values = values(my_dict)\n",
    "print(f\"All Values: {all_values}\")\n"
   ]
  }
 ],
 "metadata": {
  "kernelspec": {
   "display_name": "Python 3 (ipykernel)",
   "language": "python",
   "name": "python3"
  },
  "language_info": {
   "codemirror_mode": {
    "name": "ipython",
    "version": 3
   },
   "file_extension": ".py",
   "mimetype": "text/x-python",
   "name": "python",
   "nbconvert_exporter": "python",
   "pygments_lexer": "ipython3",
   "version": "3.11.5"
  }
 },
 "nbformat": 4,
 "nbformat_minor": 5
}
