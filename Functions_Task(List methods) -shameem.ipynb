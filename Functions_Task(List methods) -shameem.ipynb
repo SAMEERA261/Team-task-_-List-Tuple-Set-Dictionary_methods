{
 "cells": [
  {
   "cell_type": "markdown",
   "id": "6997cec9",
   "metadata": {},
   "source": [
    "# 1. append()\n",
    "\n",
    "-    The Python List append() method is used for appending and adding elements to the end of the Python List. \n",
    "\n",
    "-    Whenever i want to add exactly 1 value to a list and adds it to the end of the list\n",
    "\n",
    "-    An item (number, string, list etc.) to be added at the end of the list"
   ]
  },
  {
   "cell_type": "code",
   "execution_count": 38,
   "id": "93d50cdd",
   "metadata": {},
   "outputs": [],
   "source": [
    "def append_list(Actual_list, appended_element):\n",
    "    \n",
    "    \"\"\"\n",
    "    Append an element to a list without using the append method.\n",
    "\n",
    "    Parameters:\n",
    "    - Actual_list (list): The list to which the element will be appended.\n",
    "    - appended_element: The element to be appended to the list.\n",
    "\n",
    "    Returns:\n",
    "    list: The modified list with the new element appended.\n",
    "    \n",
    "    \"\"\"\n",
    "                            \n",
    "    modified_list = Actual_list[:]\n",
    "\n",
    "                                \n",
    "    modified_list += [appended_element]\n",
    "\n",
    "                       \n",
    "    return modified_list\n",
    "\n"
   ]
  },
  {
   "cell_type": "code",
   "execution_count": 39,
   "id": "afdf114b",
   "metadata": {},
   "outputs": [
    {
     "name": "stdout",
     "output_type": "stream",
     "text": [
      "Original list: [1, 2, 3, 4, 5]\n",
      "Modified list: [1, 2, 3, 4, 5, 6]\n"
     ]
    }
   ],
   "source": [
    "original_list = [1, 2, 3, 4, 5]\n",
    "\n",
    "appended_element = 6\n",
    "\n",
    "                             \n",
    "modified_list = append_list(original_list, appended_element)\n",
    "\n",
    "\n",
    "print(\"Original list:\", original_list)\n",
    "print(\"Modified list:\", modified_list)"
   ]
  },
  {
   "cell_type": "code",
   "execution_count": 3,
   "id": "45532e30",
   "metadata": {},
   "outputs": [
    {
     "data": {
      "text/plain": [
       "'\\n   \\n      x=list,append_element= the element to be added \\n   \\n      we can append a list using this function \\n   \\n   '"
      ]
     },
     "execution_count": 3,
     "metadata": {},
     "output_type": "execute_result"
    }
   ],
   "source": [
    "append_list.__doc__\n"
   ]
  },
  {
   "cell_type": "markdown",
   "id": "1f1a39db",
   "metadata": {},
   "source": [
    "## 2. sort\n",
    "\n",
    "-   Python list sort() function can be used to sort List with Python in ascending, descending, or user-defined order.\n",
    "\n",
    "\n",
    "-   reverse=True will sort the list descending. Default is reverse=False."
   ]
  },
  {
   "cell_type": "code",
   "execution_count": 1,
   "id": "270e18b0",
   "metadata": {},
   "outputs": [],
   "source": [
    "def sort_list(listA):   \n",
    "    \n",
    "    \"\"\"\n",
    "    Sorts a list in ascending order using the bubble sort algorithm.\n",
    "\n",
    "    Parameters:\n",
    "    - listA: The list to be sorted.\n",
    "\n",
    "    Returns:\n",
    "    - None: The function sorts the  list in-place.\n",
    "    \n",
    "    \"\"\"\n",
    "    n = len(listA)                \n",
    "    \n",
    "                                  \n",
    "    for i in range(n):\n",
    "                                  \n",
    "        for j in range(0, n-i-1):\n",
    "                                  \n",
    "            if listA[j] > listA[j+1]:\n",
    "                listA[j], listA[j+1] = listA[j+1], listA[j]\n",
    "        else:\n",
    "           \n",
    "            break\n",
    "\n"
   ]
  },
  {
   "cell_type": "code",
   "execution_count": 2,
   "id": "be9b9c6c",
   "metadata": {},
   "outputs": [
    {
     "name": "stdout",
     "output_type": "stream",
     "text": [
      "Normal List: [64, 34, 25, 12, 22, 11, 90]\n",
      "Sorted List: [34, 25, 12, 22, 11, 64, 90]\n"
     ]
    }
   ],
   "source": [
    "listB = [64, 34, 25, 12, 22, 11, 90]\n",
    "\n",
    "print(\"Normal List:\", listB)\n",
    "\n",
    "sort_list(listB)\n",
    "\n",
    "print(\"Sorted List:\", listB)"
   ]
  },
  {
   "cell_type": "code",
   "execution_count": 7,
   "id": "b53a3c55",
   "metadata": {},
   "outputs": [
    {
     "data": {
      "text/plain": [
       "'\\n    Sorts a list in ascending order using the bubble sort algorithm.\\n\\n    Parameters:\\n    - input_list (list): The list to be sorted.\\n\\n    Returns:\\n    - None: The function sorts the input list in-place.\\n    \\n    '"
      ]
     },
     "execution_count": 7,
     "metadata": {},
     "output_type": "execute_result"
    }
   ],
   "source": [
    "sort_list.__doc__"
   ]
  },
  {
   "cell_type": "markdown",
   "id": "d455cb36",
   "metadata": {},
   "source": [
    "# 3. extend()\n",
    "\n",
    "-      This method is used to add multiple elements at the same time at the end of the list.\n",
    "\n",
    "-      append() and extend() methods can only add elements at the end.\n",
    "\n",
    "-      extends() method iterates over an iterable like string, list, tuple, etc.,\n",
    "\n",
    "-      Adds each element of the iterable to the end of the Python List, modifying the original list."
   ]
  },
  {
   "cell_type": "code",
   "execution_count": 4,
   "id": "b91632f0",
   "metadata": {},
   "outputs": [],
   "source": [
    "def extend_list(Actual_list, newlist):\n",
    "    \n",
    "    \"\"\"\n",
    "    Extend the original list with elements from another list.\n",
    "\n",
    "    Parameters:\n",
    "    - normal_list: The list to be extended.\n",
    "    - newlist: The list containing elements to be added.\n",
    "\n",
    "    Returns:\n",
    "    None\n",
    "    \"\"\"\n",
    "    for element in newlist:\n",
    "                                         \n",
    "        Actual_list.append(element)     \n",
    "\n",
    "    else:\n",
    "                                        \n",
    "        print(\"List is now extended:\", Actual_list)\n"
   ]
  },
  {
   "cell_type": "code",
   "execution_count": 5,
   "id": "bf699fbb",
   "metadata": {},
   "outputs": [
    {
     "name": "stdout",
     "output_type": "stream",
     "text": [
      "normal_list: [1, 2, 3]\n",
      "Newlist: [4, 5, 6]\n"
     ]
    }
   ],
   "source": [
    "listA= [1, 2, 3]\n",
    "newlist = [4, 5, 6]\n",
    "\n",
    "print(\"Actual_list:\", listA)\n",
    "print(\"Newlist:\", newlist)"
   ]
  },
  {
   "cell_type": "code",
   "execution_count": 10,
   "id": "f491957b",
   "metadata": {},
   "outputs": [
    {
     "data": {
      "text/plain": [
       "'\\n    Extend the original list with elements from another list.\\n\\n    Parameters:\\n    - original_list (list): The list to be extended.\\n    - additional_elements (list): The list containing elements to be added.\\n\\n    Returns:\\n    None\\n    '"
      ]
     },
     "execution_count": 10,
     "metadata": {},
     "output_type": "execute_result"
    }
   ],
   "source": [
    "extend_list.__doc__"
   ]
  },
  {
   "cell_type": "markdown",
   "id": "a8b66165",
   "metadata": {},
   "source": [
    "# 4.count()\n",
    "\n",
    " -   count() method returns the count of how many times a given object occurs in a List.\n",
    " \n",
    " -   Parameters:\n",
    " \n",
    "     object: is the item whose count is to be returned.\n",
    "     \n",
    "-    Returns:\n",
    "\n",
    "     Returns the count of how many times object occurs in the list.\n",
    "     \n",
    "-    Exception:\n",
    "\n",
    "     TypeError: Raises TypeError If more than 1 parameter is passed in count() method.\n"
   ]
  },
  {
   "cell_type": "code",
   "execution_count": 22,
   "id": "d28ba91b",
   "metadata": {},
   "outputs": [],
   "source": [
    "def count_elements(Actual_list, countable_element):\n",
    "    \n",
    "    \"\"\"\n",
    "    Count the occurrences of a specific element in a list without using the count method.\n",
    "\n",
    "    Parameters:\n",
    "    - Actual_list (list): The list to be counted.\n",
    "    - countable_element: The element to count in the list.\n",
    "\n",
    "    Returns:\n",
    "    int: The count of occurrences of the target element in the list.\n",
    "    \n",
    "    \"\"\"\n",
    "                                   \n",
    "    element_count = 0\n",
    "\n",
    "                                      \n",
    "    for element in Actual_list:\n",
    "                                     \n",
    "        if element == countable_element:\n",
    "                                      \n",
    "            element_count += 1\n",
    "\n",
    "                            \n",
    "    return element_count\n"
   ]
  },
  {
   "cell_type": "code",
   "execution_count": 23,
   "id": "03ad715a",
   "metadata": {},
   "outputs": [
    {
     "name": "stdout",
     "output_type": "stream",
     "text": [
      "Actual List: [1, 2, 3, 2, 4, 2, 5]\n",
      "Count of 2: 3\n"
     ]
    }
   ],
   "source": [
    "listC = [1, 2, 3, 2, 4, 2, 5]\n",
    "element = 2\n",
    "\n",
    "print(\"Actual List:\", listC)\n",
    "print(f\"Count of {element}: {count_list(listC, element)}\")"
   ]
  },
  {
   "cell_type": "code",
   "execution_count": 13,
   "id": "641552d7",
   "metadata": {},
   "outputs": [
    {
     "data": {
      "text/plain": [
       "'\\n    Counts the occurrences of a target element in the given list.\\n\\n    Parameters:\\n    - input_list (list): The list to be searched.\\n    - target_element: The element whose occurrences are to be counted.\\n\\n    Returns:\\n    - int: The count of occurrences of the target element in the list.\\n    '"
      ]
     },
     "execution_count": 13,
     "metadata": {},
     "output_type": "execute_result"
    }
   ],
   "source": [
    "count_elements.__doc__"
   ]
  },
  {
   "cell_type": "markdown",
   "id": "cf219e3f",
   "metadata": {},
   "source": [
    "# 5.index()\n",
    "\n",
    "-    Python index() is an inbuilt function in Python, which searches for a given element from the start of the list and returns      the index of the first occurrence.\n",
    "\n",
    "-    element – The element whose lowest index will be returned.\n",
    "\n",
    "-    start (Optional) – The position from where the search begins.\n",
    "\n",
    "-    end (Optional) – The position from where the search ends.\n",
    "\n",
    "-    Return: Returns the lowest index where the element appears.\n",
    "\n",
    "-    Error: If any element which is not present is searched, it raises a ValueError."
   ]
  },
  {
   "cell_type": "code",
   "execution_count": 10,
   "id": "995b09df",
   "metadata": {},
   "outputs": [],
   "source": [
    "def find_index(Actual_list, indexed_element):\n",
    "    \"\"\"\n",
    "    Finds the index of the target element in the given list.\n",
    "\n",
    "    Parameters:\n",
    "    - Actual_list : The list to be searched.\n",
    "    - indexed_element: The element whose index is to be found.\n",
    "\n",
    "    Returns:\n",
    "    - int or None: The index of the target element if found, or None if not found.\n",
    "    \n",
    "    \"\"\"\n",
    "    for index, element in enumerate(Actual_list):\n",
    "        if element == indexed_element:\n",
    "            return index\n",
    "    else:\n",
    "                                \n",
    "        return None\n"
   ]
  },
  {
   "cell_type": "code",
   "execution_count": 11,
   "id": "911aca66",
   "metadata": {},
   "outputs": [
    {
     "name": "stdout",
     "output_type": "stream",
     "text": [
      "Original List: [1, 2, 3, 4, 5]\n",
      "Index of 3: 2\n"
     ]
    }
   ],
   "source": [
    "listA = [1, 2, 3, 4, 5]\n",
    "target = 3\n",
    "\n",
    "print(\"Original List:\", listA)\n",
    "\n",
    "index_result = find_index(listA, target)\n",
    "\n",
    "if index_result is not None:\n",
    "    print(f\"Index of {target}: {index_result}\")\n",
    "else:\n",
    "    print(f\"{target} not found in the list.\")"
   ]
  },
  {
   "cell_type": "code",
   "execution_count": 16,
   "id": "57ddd37d",
   "metadata": {},
   "outputs": [
    {
     "data": {
      "text/plain": [
       "'\\n    Finds the index of the target element in the given list.\\n\\n    Parameters:\\n    - input_list (list): The list to be searched.\\n    - target_element: The element whose index is to be found.\\n\\n    Returns:\\n    - int or None: The index of the target element if found, or None if not found.\\n    '"
      ]
     },
     "execution_count": 16,
     "metadata": {},
     "output_type": "execute_result"
    }
   ],
   "source": [
    "find_index.__doc__"
   ]
  },
  {
   "cell_type": "markdown",
   "id": "7c21742e",
   "metadata": {},
   "source": [
    "# 6. clear()\n",
    "\n",
    "-   Python List clear() method is used for removing all items from the List.\n",
    "\n",
    "-   It clears the list completely and it does not return anything.\n"
   ]
  },
  {
   "cell_type": "code",
   "execution_count": 15,
   "id": "7825be82",
   "metadata": {},
   "outputs": [],
   "source": [
    "def clear_list(Actual_list):\n",
    "    \n",
    "    \"\"\"\n",
    "    Clears the content of a list without using the clear method.\n",
    "\n",
    "    Parameters:\n",
    "    - input_list (list): The list to be cleared.\n",
    "\n",
    "    Returns:\n",
    "    None\n",
    "    \n",
    "    \"\"\"\n",
    "                         \n",
    "    Actual_list[:] = []  \n",
    "        "
   ]
  },
  {
   "cell_type": "code",
   "execution_count": 16,
   "id": "72eb87cf",
   "metadata": {},
   "outputs": [
    {
     "name": "stdout",
     "output_type": "stream",
     "text": [
      "Cleared List: []\n"
     ]
    }
   ],
   "source": [
    "listA = [1, 2, 3, 4, 5]\n",
    "\n",
    "clear_list(listA)  \n",
    "\n",
    "print(\"Cleared List:\", listA)  "
   ]
  },
  {
   "cell_type": "code",
   "execution_count": 21,
   "id": "f2da1463",
   "metadata": {},
   "outputs": [
    {
     "data": {
      "text/plain": [
       "'\\n    Clear all elements from the list.\\n\\n    Parameters:\\n    - lst (list): The list to be cleared.\\n\\n    Returns:\\n    - None\\n    '"
      ]
     },
     "execution_count": 21,
     "metadata": {},
     "output_type": "execute_result"
    }
   ],
   "source": [
    "clear_list.__doc__"
   ]
  },
  {
   "cell_type": "markdown",
   "id": "faa6c437",
   "metadata": {},
   "source": [
    "# 7.copy()\n",
    "\n",
    "-   Copy() methods return a shallow copy of a list, which returns a new list without modifying the original lists.\n",
    "\n",
    "-   Sometimes, there is a need to reuse any object, hence copy methods are always of great utility."
   ]
  },
  {
   "cell_type": "code",
   "execution_count": 28,
   "id": "96c27651",
   "metadata": {},
   "outputs": [],
   "source": [
    "def copy_list(Actual_list):\n",
    "    \n",
    "    \"\"\"\n",
    "    Create a copy of a list without using the copy method or slicing.\n",
    "\n",
    "    Parameters:\n",
    "    - Actual_list (list): The list to be copied.\n",
    "\n",
    "    Returns:\n",
    "    list: A new list containing the same elements as the Actual list.\n",
    "    \n",
    "    \"\"\"\n",
    "                     \n",
    "    copied_list = []\n",
    "\n",
    "                    \n",
    "    for element in Actual_list:\n",
    "                                 \n",
    "        copied_list.append(element)\n",
    "\n",
    "                                   \n",
    "    return copied_list"
   ]
  },
  {
   "cell_type": "code",
   "execution_count": 29,
   "id": "1abada15",
   "metadata": {},
   "outputs": [
    {
     "name": "stdout",
     "output_type": "stream",
     "text": [
      "Original List: [1, 2, 3, 4, 5]\n",
      "Copied List: [1, 2, 3, 4, 5]\n"
     ]
    }
   ],
   "source": [
    "listA = [1, 2, 3, 4, 5]\n",
    "\n",
    "copied_list = copy_list(listA) \n",
    "print(\"Original List:\", listA)   \n",
    "print(\"Copied List:\", copied_list)"
   ]
  },
  {
   "cell_type": "code",
   "execution_count": 24,
   "id": "13dfaf60",
   "metadata": {},
   "outputs": [
    {
     "data": {
      "text/plain": [
       "'\\n    Create a new copy of the given list.\\n\\n    Parameters:\\n    - original_list (list): The list to be copied.\\n\\n    Returns:\\n    - A new list containing the same elements as the original list.\\n    '"
      ]
     },
     "execution_count": 24,
     "metadata": {},
     "output_type": "execute_result"
    }
   ],
   "source": [
    "copy_list.__doc__"
   ]
  }
 ],
 "metadata": {
  "kernelspec": {
   "display_name": "Python 3 (ipykernel)",
   "language": "python",
   "name": "python3"
  },
  "language_info": {
   "codemirror_mode": {
    "name": "ipython",
    "version": 3
   },
   "file_extension": ".py",
   "mimetype": "text/x-python",
   "name": "python",
   "nbconvert_exporter": "python",
   "pygments_lexer": "ipython3",
   "version": "3.11.5"
  }
 },
 "nbformat": 4,
 "nbformat_minor": 5
}
