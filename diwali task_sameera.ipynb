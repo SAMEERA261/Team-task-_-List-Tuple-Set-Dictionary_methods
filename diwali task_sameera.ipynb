{
 "cells": [
  {
   "cell_type": "markdown",
   "id": "9ce0bd0e",
   "metadata": {},
   "source": [
    "# remove()_list:\n",
    "* The remove() method removes the specified item in a list.\n",
    "* Raises KeyError if elem is not contained in the set."
   ]
  },
  {
   "cell_type": "code",
   "execution_count": 93,
   "id": "a36e2700",
   "metadata": {},
   "outputs": [],
   "source": [
    "def removelst(lst, removeitm):\n",
    "    if removeitm in lst:\n",
    "        index_to_remove = lst.index(removeitm)\n",
    "        \"\"\"removes the mentioned item from the list using the custom_remove function \n",
    "    will only remove the item from the list temporaryly\n",
    "    removes the first appearnce of the item in the list\"\"\"\n",
    "        a = lst[:index_to_remove] + lst[index_to_remove + 1:]#new list\n",
    "        return a\n",
    "    else:\n",
    "        print(f\"{removeitm} not found in the list.\")\n",
    "        return lst"
   ]
  },
  {
   "cell_type": "code",
   "execution_count": 89,
   "id": "223f5d83",
   "metadata": {},
   "outputs": [
    {
     "name": "stdout",
     "output_type": "stream",
     "text": [
      "Original List: [1, 2, 3, 4, 5]\n",
      "Updated List: [1, 2, 3, 5]\n"
     ]
    }
   ],
   "source": [
    "original_list = [1, 2, 3, 4, 5]\n",
    "item_to_remove = 4\n",
    "\n",
    "updated_list = removelst(original_list, item_to_remove)\n",
    "\n",
    "print(f\"Original List: {original_list}\")\n",
    "print(f\"Updated List: {updated_list}\")"
   ]
  },
  {
   "cell_type": "code",
   "execution_count": 90,
   "id": "a4af67a6",
   "metadata": {},
   "outputs": [],
   "source": [
    "lst = [1, 2, 3, 4,2,5,'sam','jam']\n",
    "removeitm = 1\n",
    "updated_list = removelst(lst, removeitm)"
   ]
  },
  {
   "cell_type": "code",
   "execution_count": 87,
   "id": "cef76cb7",
   "metadata": {},
   "outputs": [
    {
     "data": {
      "text/plain": [
       "[1, 3, 4, 2, 5, 'sam', 'jam']"
      ]
     },
     "execution_count": 87,
     "metadata": {},
     "output_type": "execute_result"
    }
   ],
   "source": [
    "removelst(lst,2)\n",
    "#removes the first appearnce of the item in the list"
   ]
  },
  {
   "cell_type": "markdown",
   "id": "9f0a8706",
   "metadata": {},
   "source": [
    "# clear()_set :\n",
    "* Remove all elements from the given set."
   ]
  },
  {
   "cell_type": "code",
   "execution_count": 19,
   "id": "f4769da7",
   "metadata": {},
   "outputs": [],
   "source": [
    "def clearset(gset):\n",
    "    \"\"\"Create a new empty set\n",
    "    Remove all elements from the given set\n",
    "    clears the set and gives an empty set\"\"\"\n",
    "    nset = set()\n",
    "    return nset"
   ]
  },
  {
   "cell_type": "code",
   "execution_count": 22,
   "id": "3fe9e98e",
   "metadata": {},
   "outputs": [
    {
     "name": "stdout",
     "output_type": "stream",
     "text": [
      "Original set: {1, 2, 3, 4, 5}\n",
      "Cleared set: set()\n"
     ]
    }
   ],
   "source": [
    "a = {1, 2, 3, 4, 5}\n",
    "print(\"Original set:\", a)\n",
    "\n",
    "a = clearset(a)\n",
    "print(\"Cleared set:\", a)"
   ]
  },
  {
   "cell_type": "code",
   "execution_count": 23,
   "id": "c09dad65",
   "metadata": {},
   "outputs": [
    {
     "data": {
      "text/plain": [
       "set()"
      ]
     },
     "execution_count": 23,
     "metadata": {},
     "output_type": "execute_result"
    }
   ],
   "source": [
    "clearset(a)"
   ]
  },
  {
   "cell_type": "code",
   "execution_count": 15,
   "id": "6a9d21a2",
   "metadata": {},
   "outputs": [
    {
     "name": "stdout",
     "output_type": "stream",
     "text": [
      "Create a new empty set\n",
      "    Remove all elements from the given set\n",
      "    clears the set and gives an empty set\n"
     ]
    }
   ],
   "source": [
    "print(clearset.__doc__)"
   ]
  },
  {
   "cell_type": "markdown",
   "id": "7ef4d435",
   "metadata": {},
   "source": [
    "# copy()_set:\n",
    "* Return a shallow copy of the set.\n"
   ]
  },
  {
   "cell_type": "code",
   "execution_count": 30,
   "id": "8451afaa",
   "metadata": {},
   "outputs": [],
   "source": [
    "def copyset(originalset):\n",
    "    nset = set()\n",
    "    \"\"\"copy will copy a set to an given variable\n",
    "    this function copies the set to an empty set\"\"\"\n",
    "    for element in originalset:\n",
    "        nset.add(element)\n",
    "    return nset"
   ]
  },
  {
   "cell_type": "code",
   "execution_count": 31,
   "id": "b9bbcaee",
   "metadata": {},
   "outputs": [
    {
     "name": "stdout",
     "output_type": "stream",
     "text": [
      "Original set: {1, 2, 3, 4, 5}\n",
      "Copied set: {1, 2, 3, 4, 5}\n"
     ]
    }
   ],
   "source": [
    "originalset = {1, 2, 3, 4, 5}\n",
    "copiedset = copyset(originalset)\n",
    "\n",
    "print(\"Original set:\", originalset)\n",
    "print(\"Copied set:\", copiedset)\n"
   ]
  },
  {
   "cell_type": "code",
   "execution_count": 71,
   "id": "830d2c0e",
   "metadata": {},
   "outputs": [
    {
     "data": {
      "text/plain": [
       "{1, 2, 4, 5, 6}"
      ]
     },
     "execution_count": 71,
     "metadata": {},
     "output_type": "execute_result"
    }
   ],
   "source": [
    "copy_set({1,2,5,4,6})"
   ]
  },
  {
   "cell_type": "markdown",
   "id": "ea69ea4b",
   "metadata": {},
   "source": [
    "# difference_update()_set:\n",
    "*  set -= other | ...\n",
    "   Update the set, removing elements found in others."
   ]
  },
  {
   "cell_type": "code",
   "execution_count": 25,
   "id": "61339df6",
   "metadata": {},
   "outputs": [],
   "source": [
    "def diffupdate(set1, set2):\n",
    "    \n",
    "    \"\"\" Create a new set with elements that are in set1 but not in set2\n",
    "     Clear set1 and update it with the new set\"\"\"\n",
    "    a = set(element for element in set1 if element not in set2)\n",
    "    set1.clear()\n",
    "    set1.update(a)"
   ]
  },
  {
   "cell_type": "code",
   "execution_count": 27,
   "id": "a392a686",
   "metadata": {},
   "outputs": [
    {
     "name": "stdout",
     "output_type": "stream",
     "text": [
      "{1, 2}\n"
     ]
    }
   ],
   "source": [
    "a = {1, 2, 3, 4, 5}\n",
    "b = {3, 4, 5, 6, 7}\n",
    "\n",
    "diffupdate(a,b)\n",
    "print(a)  "
   ]
  },
  {
   "cell_type": "markdown",
   "id": "8f6773d8",
   "metadata": {},
   "source": [
    "# discard()_set:\n",
    "* Remove element elem from the set if it is present.\n",
    "* It doesn't raise any error if the element is not in the set."
   ]
  },
  {
   "cell_type": "code",
   "execution_count": 96,
   "id": "f6a620a7",
   "metadata": {},
   "outputs": [],
   "source": [
    "def diselement(myset, elementtodiscard):\n",
    "    \"\"\"Create a new set with elements other than the one to discard\n",
    "    can write the set and the elemnt in the parenthesis\"\"\"\n",
    "    newset = {elem for elem in myset if elem != elementtodiscard}\n",
    "    return newset"
   ]
  },
  {
   "cell_type": "code",
   "execution_count": 97,
   "id": "451a4a57",
   "metadata": {},
   "outputs": [
    {
     "name": "stdout",
     "output_type": "stream",
     "text": [
      "{1, 2, 4, 5}\n"
     ]
    }
   ],
   "source": [
    "myset = {1, 2, 3, 4, 5}\n",
    "elementtoremove = 3\n",
    "\n",
    "updatedset = diselement(myset, elementtoremove)\n",
    "print(updatedset)"
   ]
  },
  {
   "cell_type": "code",
   "execution_count": 99,
   "id": "a972e981",
   "metadata": {},
   "outputs": [
    {
     "data": {
      "text/plain": [
       "{1, 2, 3, 4, 5}"
      ]
     },
     "execution_count": 99,
     "metadata": {},
     "output_type": "execute_result"
    }
   ],
   "source": [
    " diselement(myset,10)"
   ]
  },
  {
   "cell_type": "markdown",
   "id": "92a77987",
   "metadata": {},
   "source": [
    "# intersection()_set:\n",
    "* set & other & ...\n",
    "  Return a new set with elements common to the set and all others.\n"
   ]
  },
  {
   "cell_type": "code",
   "execution_count": 103,
   "id": "cf55e570",
   "metadata": {},
   "outputs": [],
   "source": [
    "def setintersection(set1, set2):\n",
    "    intersection_set = set()\n",
    "    \"\"\"This function iterates through each element in set1 and checks if it is present in set2. \n",
    "    ...If it is, the element is added to the intersection_set\"\"\"\n",
    "    for element in set1:\n",
    "        if element in set2:\n",
    "            intersection_set.add(element)\n",
    "    return intersection_set"
   ]
  },
  {
   "cell_type": "code",
   "execution_count": 102,
   "id": "be575e1b",
   "metadata": {},
   "outputs": [
    {
     "name": "stdout",
     "output_type": "stream",
     "text": [
      "Intersection: {4, 5}\n"
     ]
    }
   ],
   "source": [
    "set1 = {1, 2, 3, 4, 5}\n",
    "set2 = {4, 5, 6, 7, 8}\n",
    "\n",
    "result = setintersection(set1, set2)\n",
    "print(\"Intersection:\", result)"
   ]
  },
  {
   "cell_type": "markdown",
   "id": "108b97e3",
   "metadata": {},
   "source": [
    "# add()_set:\n",
    "* Add element elem to the set."
   ]
  },
  {
   "cell_type": "code",
   "execution_count": 105,
   "id": "1b9e3b12",
   "metadata": {},
   "outputs": [],
   "source": [
    "def addset(my_set, element):\n",
    "    \"\"\"Check if the element is already in the set\n",
    "            If not, create a new set with the element and the existing elements\"\"\"\n",
    "    if element not in my_set:\n",
    "        my_set = my_set.union({element})\n",
    "    return my_set"
   ]
  },
  {
   "cell_type": "code",
   "execution_count": 106,
   "id": "21e4a54e",
   "metadata": {},
   "outputs": [
    {
     "name": "stdout",
     "output_type": "stream",
     "text": [
      "{1, 2, 3, 4}\n"
     ]
    }
   ],
   "source": [
    "my_set = {1, 2, 3}\n",
    "new_element = 4\n",
    "my_set = addset(my_set, new_element)\n",
    "print(my_set)"
   ]
  },
  {
   "cell_type": "code",
   "execution_count": 107,
   "id": "155c9d21",
   "metadata": {},
   "outputs": [
    {
     "data": {
      "text/plain": [
       "{1, 2, 3, 4, 'sam'}"
      ]
     },
     "execution_count": 107,
     "metadata": {},
     "output_type": "execute_result"
    }
   ],
   "source": [
    "addset(my_set,'sam')"
   ]
  },
  {
   "cell_type": "code",
   "execution_count": null,
   "id": "5edfb02b",
   "metadata": {},
   "outputs": [],
   "source": []
  }
 ],
 "metadata": {
  "kernelspec": {
   "display_name": "Python 3 (ipykernel)",
   "language": "python",
   "name": "python3"
  },
  "language_info": {
   "codemirror_mode": {
    "name": "ipython",
    "version": 3
   },
   "file_extension": ".py",
   "mimetype": "text/x-python",
   "name": "python",
   "nbconvert_exporter": "python",
   "pygments_lexer": "ipython3",
   "version": "3.11.5"
  }
 },
 "nbformat": 4,
 "nbformat_minor": 5
}
